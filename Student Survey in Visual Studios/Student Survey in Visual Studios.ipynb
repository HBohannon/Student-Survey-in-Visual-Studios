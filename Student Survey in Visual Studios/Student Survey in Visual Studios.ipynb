{
 "cells": [
  {
   "cell_type": "markdown",
   "id": "05a35a26-5c1f-44bd-8613-c987cdc42832",
   "metadata": {},
   "source": [
    "Here is an report for the dataset \"studentSurvey\" where I examined specific data labeled Area1 through Area12 to determine \n",
    "the following:\n",
    "\n",
    "~Whether this data is suitable for factor analysis\n",
    "~The appropriate number of factors for this data\n",
    "~The best model fit for this data\n",
    "~How the items group together into factors, if there is more than one factor indicated\n",
    "~Whether the scale is considered reliable through inter-rater reliability and\n",
    "~Whether the scale is considered reliable through inter-item reliability."
   ]
  },
  {
   "cell_type": "markdown",
   "id": "cba3b76c-07a4-4c65-b481-cc974524171e",
   "metadata": {},
   "source": [
    "Loaded Libraies"
   ]
  },
  {
   "cell_type": "code",
   "execution_count": 1,
   "id": "1fc2e790-93db-4149-90a0-bf1b8bceba06",
   "metadata": {
    "vscode": {
     "languageId": "r"
    }
   },
   "outputs": [],
   "source": [
    "library(\"corpcor\")\n",
    "library(\"GPArotation\")\n",
    "library(\"psych\")\n",
    "library(\"IDPmisc\")"
   ]
  },
  {
   "cell_type": "markdown",
   "id": "5a13fd28-800a-4f66-9a27-4addb546f6a4",
   "metadata": {},
   "source": [
    "Load Data"
   ]
  },
  {
   "cell_type": "code",
   "execution_count": 4,
   "id": "f3636b03-53a2-4b61-adc7-dc989ad41d8a",
   "metadata": {
    "vscode": {
     "languageId": "r"
    }
   },
   "outputs": [],
   "source": [
    "studentSurvey = read.csv('C:/Users/Hanna Bohannon/Documents/DS0103 Notes and Assignments/DS0103_data/studentSurvey.csv')"
   ]
  },
  {
   "cell_type": "markdown",
   "id": "671306fe-6d7c-4fc0-add2-fd3a75df08f0",
   "metadata": {},
   "source": [
    "Inspect Data"
   ]
  },
  {
   "cell_type": "code",
   "execution_count": 5,
   "id": "7e00fe66-9371-4d93-b62d-8cad808b5c3a",
   "metadata": {
    "vscode": {
     "languageId": "r"
    }
   },
   "outputs": [
    {
     "data": {
      "text/html": [
       "<table class=\"dataframe\">\n",
       "<caption>A data.frame: 6 × 87</caption>\n",
       "<thead>\n",
       "\t<tr><th></th><th scope=col>Timestamp</th><th scope=col>Gender</th><th scope=col>Faculty</th><th scope=col>Engineering.Program</th><th scope=col>Law.Program</th><th scope=col>Business.Program</th><th scope=col>Arts.Program</th><th scope=col>Other.Program</th><th scope=col>Bachelor..Academic.Year.in.EU</th><th scope=col>Masters.Academic.Year.in.EU</th><th scope=col>...</th><th scope=col>Q3</th><th scope=col>Q4</th><th scope=col>Q5</th><th scope=col>Q6..What.are.the.best.aspects.of.the.program..</th><th scope=col>Q7..In.your.opinion.the.best.aspect.of.the.program.is</th><th scope=col>Q8..In.your.opinion.the.next.best.aspect.of.the.program.is</th><th scope=col>What.aspects.of.the.program.could.be.improved.</th><th scope=col>Do.you.feel.that.the.quality.of.education.improved.at.EU.over.the.last.year.</th><th scope=col>Do.you.feel.that.the.image.of.the.University.improved.over.the.last.year.</th><th scope=col>Username</th></tr>\n",
       "\t<tr><th></th><th scope=col>&lt;chr&gt;</th><th scope=col>&lt;chr&gt;</th><th scope=col>&lt;chr&gt;</th><th scope=col>&lt;lgl&gt;</th><th scope=col>&lt;chr&gt;</th><th scope=col>&lt;chr&gt;</th><th scope=col>&lt;chr&gt;</th><th scope=col>&lt;lgl&gt;</th><th scope=col>&lt;chr&gt;</th><th scope=col>&lt;chr&gt;</th><th scope=col>...</th><th scope=col>&lt;int&gt;</th><th scope=col>&lt;int&gt;</th><th scope=col>&lt;int&gt;</th><th scope=col>&lt;int&gt;</th><th scope=col>&lt;chr&gt;</th><th scope=col>&lt;chr&gt;</th><th scope=col>&lt;chr&gt;</th><th scope=col>&lt;chr&gt;</th><th scope=col>&lt;chr&gt;</th><th scope=col>&lt;lgl&gt;</th></tr>\n",
       "</thead>\n",
       "<tbody>\n",
       "\t<tr><th scope=row>1</th><td>1/25/2016 14:37</td><td>Male  </td><td>Arts</td><td>NA</td><td></td><td></td><td>B.A. in English</td><td>NA</td><td>3rd Year</td><td></td><td>...</td><td>4</td><td>4</td><td>5</td><td>5</td><td>Teaching/Learning</td><td>Teaching/Learning           </td><td>Teaching/Learning           </td><td>Yes</td><td>Yes</td><td>NA</td></tr>\n",
       "\t<tr><th scope=row>2</th><td>1/25/2016 14:38</td><td>Female</td><td>Arts</td><td>NA</td><td></td><td></td><td>B.A. in English</td><td>NA</td><td>4th Year</td><td></td><td>...</td><td>4</td><td>4</td><td>5</td><td>5</td><td>Faculty          </td><td>Faculty                     </td><td>Teaching/Learning           </td><td>Yes</td><td>Yes</td><td>NA</td></tr>\n",
       "\t<tr><th scope=row>3</th><td>1/25/2016 14:40</td><td>Male  </td><td>Arts</td><td>NA</td><td></td><td></td><td>B.A. in English</td><td>NA</td><td>3rd Year</td><td></td><td>...</td><td>4</td><td>4</td><td>5</td><td>3</td><td>Teaching/Learning</td><td>Teaching/Learning           </td><td>Faculty                     </td><td>Yes</td><td>Yes</td><td>NA</td></tr>\n",
       "\t<tr><th scope=row>4</th><td>1/25/2016 14:43</td><td>Male  </td><td>Arts</td><td>NA</td><td></td><td></td><td>B.A. in English</td><td>NA</td><td>3rd Year</td><td></td><td>...</td><td>4</td><td>3</td><td>4</td><td>5</td><td>Teaching/Learning</td><td>Teaching/Learning           </td><td>Teaching/Learning           </td><td>Yes</td><td>Yes</td><td>NA</td></tr>\n",
       "\t<tr><th scope=row>5</th><td>1/25/2016 14:45</td><td>Female</td><td>Arts</td><td>NA</td><td></td><td></td><td>B.A. in English</td><td>NA</td><td>4th Year</td><td></td><td>...</td><td>4</td><td>4</td><td>3</td><td>2</td><td>Teaching/Learning</td><td>Faculty                     </td><td>Overall learning environment</td><td>Yes</td><td>Yes</td><td>NA</td></tr>\n",
       "\t<tr><th scope=row>6</th><td>1/25/2016 14:47</td><td>Female</td><td>Arts</td><td>NA</td><td></td><td></td><td>B.A. in English</td><td>NA</td><td>4th Year</td><td></td><td>...</td><td>3</td><td>4</td><td>5</td><td>5</td><td>Faculty          </td><td>Overall learning environment</td><td>Faculty                     </td><td>Yes</td><td>Yes</td><td>NA</td></tr>\n",
       "</tbody>\n",
       "</table>\n"
      ],
      "text/latex": [
       "A data.frame: 6 × 87\n",
       "\\begin{tabular}{r|lllllllllllllllllllll}\n",
       "  & Timestamp & Gender & Faculty & Engineering.Program & Law.Program & Business.Program & Arts.Program & Other.Program & Bachelor..Academic.Year.in.EU & Masters.Academic.Year.in.EU & ... & Q3 & Q4 & Q5 & Q6..What.are.the.best.aspects.of.the.program.. & Q7..In.your.opinion.the.best.aspect.of.the.program.is & Q8..In.your.opinion.the.next.best.aspect.of.the.program.is & What.aspects.of.the.program.could.be.improved. & Do.you.feel.that.the.quality.of.education.improved.at.EU.over.the.last.year. & Do.you.feel.that.the.image.of.the.University.improved.over.the.last.year. & Username\\\\\n",
       "  & <chr> & <chr> & <chr> & <lgl> & <chr> & <chr> & <chr> & <lgl> & <chr> & <chr> & ... & <int> & <int> & <int> & <int> & <chr> & <chr> & <chr> & <chr> & <chr> & <lgl>\\\\\n",
       "\\hline\n",
       "\t1 & 1/25/2016 14:37 & Male   & Arts & NA &  &  & B.A. in English & NA & 3rd Year &  & ... & 4 & 4 & 5 & 5 & Teaching/Learning & Teaching/Learning            & Teaching/Learning            & Yes & Yes & NA\\\\\n",
       "\t2 & 1/25/2016 14:38 & Female & Arts & NA &  &  & B.A. in English & NA & 4th Year &  & ... & 4 & 4 & 5 & 5 & Faculty           & Faculty                      & Teaching/Learning            & Yes & Yes & NA\\\\\n",
       "\t3 & 1/25/2016 14:40 & Male   & Arts & NA &  &  & B.A. in English & NA & 3rd Year &  & ... & 4 & 4 & 5 & 3 & Teaching/Learning & Teaching/Learning            & Faculty                      & Yes & Yes & NA\\\\\n",
       "\t4 & 1/25/2016 14:43 & Male   & Arts & NA &  &  & B.A. in English & NA & 3rd Year &  & ... & 4 & 3 & 4 & 5 & Teaching/Learning & Teaching/Learning            & Teaching/Learning            & Yes & Yes & NA\\\\\n",
       "\t5 & 1/25/2016 14:45 & Female & Arts & NA &  &  & B.A. in English & NA & 4th Year &  & ... & 4 & 4 & 3 & 2 & Teaching/Learning & Faculty                      & Overall learning environment & Yes & Yes & NA\\\\\n",
       "\t6 & 1/25/2016 14:47 & Female & Arts & NA &  &  & B.A. in English & NA & 4th Year &  & ... & 3 & 4 & 5 & 5 & Faculty           & Overall learning environment & Faculty                      & Yes & Yes & NA\\\\\n",
       "\\end{tabular}\n"
      ],
      "text/markdown": [
       "\n",
       "A data.frame: 6 × 87\n",
       "\n",
       "| <!--/--> | Timestamp &lt;chr&gt; | Gender &lt;chr&gt; | Faculty &lt;chr&gt; | Engineering.Program &lt;lgl&gt; | Law.Program &lt;chr&gt; | Business.Program &lt;chr&gt; | Arts.Program &lt;chr&gt; | Other.Program &lt;lgl&gt; | Bachelor..Academic.Year.in.EU &lt;chr&gt; | Masters.Academic.Year.in.EU &lt;chr&gt; | ... ... | Q3 &lt;int&gt; | Q4 &lt;int&gt; | Q5 &lt;int&gt; | Q6..What.are.the.best.aspects.of.the.program.. &lt;int&gt; | Q7..In.your.opinion.the.best.aspect.of.the.program.is &lt;chr&gt; | Q8..In.your.opinion.the.next.best.aspect.of.the.program.is &lt;chr&gt; | What.aspects.of.the.program.could.be.improved. &lt;chr&gt; | Do.you.feel.that.the.quality.of.education.improved.at.EU.over.the.last.year. &lt;chr&gt; | Do.you.feel.that.the.image.of.the.University.improved.over.the.last.year. &lt;chr&gt; | Username &lt;lgl&gt; |\n",
       "|---|---|---|---|---|---|---|---|---|---|---|---|---|---|---|---|---|---|---|---|---|---|\n",
       "| 1 | 1/25/2016 14:37 | Male   | Arts | NA | <!----> | <!----> | B.A. in English | NA | 3rd Year | <!----> | ... | 4 | 4 | 5 | 5 | Teaching/Learning | Teaching/Learning            | Teaching/Learning            | Yes | Yes | NA |\n",
       "| 2 | 1/25/2016 14:38 | Female | Arts | NA | <!----> | <!----> | B.A. in English | NA | 4th Year | <!----> | ... | 4 | 4 | 5 | 5 | Faculty           | Faculty                      | Teaching/Learning            | Yes | Yes | NA |\n",
       "| 3 | 1/25/2016 14:40 | Male   | Arts | NA | <!----> | <!----> | B.A. in English | NA | 3rd Year | <!----> | ... | 4 | 4 | 5 | 3 | Teaching/Learning | Teaching/Learning            | Faculty                      | Yes | Yes | NA |\n",
       "| 4 | 1/25/2016 14:43 | Male   | Arts | NA | <!----> | <!----> | B.A. in English | NA | 3rd Year | <!----> | ... | 4 | 3 | 4 | 5 | Teaching/Learning | Teaching/Learning            | Teaching/Learning            | Yes | Yes | NA |\n",
       "| 5 | 1/25/2016 14:45 | Female | Arts | NA | <!----> | <!----> | B.A. in English | NA | 4th Year | <!----> | ... | 4 | 4 | 3 | 2 | Teaching/Learning | Faculty                      | Overall learning environment | Yes | Yes | NA |\n",
       "| 6 | 1/25/2016 14:47 | Female | Arts | NA | <!----> | <!----> | B.A. in English | NA | 4th Year | <!----> | ... | 3 | 4 | 5 | 5 | Faculty           | Overall learning environment | Faculty                      | Yes | Yes | NA |\n",
       "\n"
      ],
      "text/plain": [
       "  Timestamp       Gender Faculty Engineering.Program Law.Program\n",
       "1 1/25/2016 14:37 Male   Arts    NA                             \n",
       "2 1/25/2016 14:38 Female Arts    NA                             \n",
       "3 1/25/2016 14:40 Male   Arts    NA                             \n",
       "4 1/25/2016 14:43 Male   Arts    NA                             \n",
       "5 1/25/2016 14:45 Female Arts    NA                             \n",
       "6 1/25/2016 14:47 Female Arts    NA                             \n",
       "  Business.Program Arts.Program    Other.Program Bachelor..Academic.Year.in.EU\n",
       "1                  B.A. in English NA            3rd Year                     \n",
       "2                  B.A. in English NA            4th Year                     \n",
       "3                  B.A. in English NA            3rd Year                     \n",
       "4                  B.A. in English NA            3rd Year                     \n",
       "5                  B.A. in English NA            4th Year                     \n",
       "6                  B.A. in English NA            4th Year                     \n",
       "  Masters.Academic.Year.in.EU ... Q3 Q4 Q5\n",
       "1                             ... 4  4  5 \n",
       "2                             ... 4  4  5 \n",
       "3                             ... 4  4  5 \n",
       "4                             ... 4  3  4 \n",
       "5                             ... 4  4  3 \n",
       "6                             ... 3  4  5 \n",
       "  Q6..What.are.the.best.aspects.of.the.program..\n",
       "1 5                                             \n",
       "2 5                                             \n",
       "3 3                                             \n",
       "4 5                                             \n",
       "5 2                                             \n",
       "6 5                                             \n",
       "  Q7..In.your.opinion.the.best.aspect.of.the.program.is\n",
       "1 Teaching/Learning                                    \n",
       "2 Faculty                                              \n",
       "3 Teaching/Learning                                    \n",
       "4 Teaching/Learning                                    \n",
       "5 Teaching/Learning                                    \n",
       "6 Faculty                                              \n",
       "  Q8..In.your.opinion.the.next.best.aspect.of.the.program.is\n",
       "1 Teaching/Learning                                         \n",
       "2 Faculty                                                   \n",
       "3 Teaching/Learning                                         \n",
       "4 Teaching/Learning                                         \n",
       "5 Faculty                                                   \n",
       "6 Overall learning environment                              \n",
       "  What.aspects.of.the.program.could.be.improved.\n",
       "1 Teaching/Learning                             \n",
       "2 Teaching/Learning                             \n",
       "3 Faculty                                       \n",
       "4 Teaching/Learning                             \n",
       "5 Overall learning environment                  \n",
       "6 Faculty                                       \n",
       "  Do.you.feel.that.the.quality.of.education.improved.at.EU.over.the.last.year.\n",
       "1 Yes                                                                         \n",
       "2 Yes                                                                         \n",
       "3 Yes                                                                         \n",
       "4 Yes                                                                         \n",
       "5 Yes                                                                         \n",
       "6 Yes                                                                         \n",
       "  Do.you.feel.that.the.image.of.the.University.improved.over.the.last.year.\n",
       "1 Yes                                                                      \n",
       "2 Yes                                                                      \n",
       "3 Yes                                                                      \n",
       "4 Yes                                                                      \n",
       "5 Yes                                                                      \n",
       "6 Yes                                                                      \n",
       "  Username\n",
       "1 NA      \n",
       "2 NA      \n",
       "3 NA      \n",
       "4 NA      \n",
       "5 NA      \n",
       "6 NA      "
      ]
     },
     "metadata": {},
     "output_type": "display_data"
    }
   ],
   "source": [
    "head(studentSurvey)"
   ]
  },
  {
   "cell_type": "markdown",
   "id": "653c80b3-07ba-47b5-a09e-e8ed6972743c",
   "metadata": {},
   "source": [
    "Subset Data"
   ]
  },
  {
   "cell_type": "code",
   "execution_count": 7,
   "id": "18ec9dac-37d2-4dc0-99c0-b66022c3dcd9",
   "metadata": {
    "vscode": {
     "languageId": "r"
    }
   },
   "outputs": [],
   "source": [
    "studentSurvey <- studentSurvey[, 31:42]"
   ]
  },
  {
   "cell_type": "markdown",
   "id": "85a3b397-13e0-4975-9169-5f466d6c3978",
   "metadata": {},
   "source": [
    "Remove Na"
   ]
  },
  {
   "cell_type": "code",
   "execution_count": 9,
   "id": "5acbf096-3ac3-4499-af68-02f4b7e33b55",
   "metadata": {
    "vscode": {
     "languageId": "r"
    }
   },
   "outputs": [],
   "source": [
    "studentSurvey2 = NaRV.omit(studentSurvey)"
   ]
  },
  {
   "cell_type": "markdown",
   "id": "8960f888-8817-4594-bd32-396318fd3a32",
   "metadata": {},
   "source": [
    "Create a Correlation Matrix"
   ]
  },
  {
   "cell_type": "code",
   "execution_count": 10,
   "id": "e20a0bf5-dc74-480f-99f9-c4c1b2304c21",
   "metadata": {
    "vscode": {
     "languageId": "r"
    }
   },
   "outputs": [],
   "source": [
    "studentSurveymatrix = cor(studentSurvey2)"
   ]
  },
  {
   "cell_type": "code",
   "execution_count": 11,
   "id": "4058397d-4900-4451-8ad0-da2b2d48f475",
   "metadata": {
    "vscode": {
     "languageId": "r"
    }
   },
   "outputs": [
    {
     "data": {
      "text/html": [
       "<table class=\"dataframe\">\n",
       "<caption>A data.frame: 464 × 12</caption>\n",
       "<thead>\n",
       "\t<tr><th></th><th scope=col>Area1</th><th scope=col>Area2</th><th scope=col>Area3</th><th scope=col>Area4</th><th scope=col>Area5</th><th scope=col>Area6</th><th scope=col>Area7</th><th scope=col>Area8</th><th scope=col>Area9</th><th scope=col>Area10</th><th scope=col>Area11</th><th scope=col>Area12</th></tr>\n",
       "\t<tr><th></th><th scope=col>&lt;dbl&gt;</th><th scope=col>&lt;dbl&gt;</th><th scope=col>&lt;dbl&gt;</th><th scope=col>&lt;dbl&gt;</th><th scope=col>&lt;dbl&gt;</th><th scope=col>&lt;dbl&gt;</th><th scope=col>&lt;dbl&gt;</th><th scope=col>&lt;dbl&gt;</th><th scope=col>&lt;dbl&gt;</th><th scope=col>&lt;dbl&gt;</th><th scope=col>&lt;dbl&gt;</th><th scope=col>&lt;dbl&gt;</th></tr>\n",
       "</thead>\n",
       "<tbody>\n",
       "\t<tr><th scope=row>1</th><td>5</td><td>5</td><td>5</td><td>5</td><td>5</td><td>5</td><td>5</td><td>5</td><td>5</td><td>5</td><td>5</td><td>5</td></tr>\n",
       "\t<tr><th scope=row>2</th><td>4</td><td>5</td><td>4</td><td>4</td><td>4</td><td>5</td><td>4</td><td>5</td><td>4</td><td>4</td><td>5</td><td>5</td></tr>\n",
       "\t<tr><th scope=row>3</th><td>4</td><td>5</td><td>5</td><td>5</td><td>5</td><td>5</td><td>5</td><td>5</td><td>4</td><td>5</td><td>5</td><td>5</td></tr>\n",
       "\t<tr><th scope=row>4</th><td>5</td><td>5</td><td>5</td><td>5</td><td>5</td><td>5</td><td>5</td><td>5</td><td>5</td><td>5</td><td>5</td><td>5</td></tr>\n",
       "\t<tr><th scope=row>5</th><td>5</td><td>5</td><td>5</td><td>5</td><td>4</td><td>5</td><td>5</td><td>4</td><td>5</td><td>5</td><td>4</td><td>4</td></tr>\n",
       "\t<tr><th scope=row>6</th><td>5</td><td>5</td><td>4</td><td>5</td><td>5</td><td>5</td><td>5</td><td>5</td><td>5</td><td>4</td><td>5</td><td>5</td></tr>\n",
       "\t<tr><th scope=row>7</th><td>5</td><td>4</td><td>5</td><td>4</td><td>5</td><td>5</td><td>5</td><td>5</td><td>5</td><td>4</td><td>5</td><td>5</td></tr>\n",
       "\t<tr><th scope=row>8</th><td>5</td><td>5</td><td>5</td><td>5</td><td>5</td><td>5</td><td>5</td><td>5</td><td>5</td><td>5</td><td>5</td><td>5</td></tr>\n",
       "\t<tr><th scope=row>9</th><td>5</td><td>5</td><td>5</td><td>5</td><td>5</td><td>5</td><td>5</td><td>5</td><td>5</td><td>5</td><td>5</td><td>5</td></tr>\n",
       "\t<tr><th scope=row>11</th><td>5</td><td>4</td><td>5</td><td>4</td><td>4</td><td>4</td><td>4</td><td>3</td><td>4</td><td>5</td><td>5</td><td>4</td></tr>\n",
       "\t<tr><th scope=row>12</th><td>5</td><td>4</td><td>5</td><td>5</td><td>5</td><td>4</td><td>5</td><td>3</td><td>4</td><td>4</td><td>5</td><td>5</td></tr>\n",
       "\t<tr><th scope=row>13</th><td>4</td><td>4</td><td>4</td><td>4</td><td>5</td><td>4</td><td>4</td><td>5</td><td>5</td><td>4</td><td>4</td><td>5</td></tr>\n",
       "\t<tr><th scope=row>14</th><td>5</td><td>5</td><td>5</td><td>4</td><td>5</td><td>4</td><td>4</td><td>5</td><td>5</td><td>5</td><td>4</td><td>5</td></tr>\n",
       "\t<tr><th scope=row>15</th><td>4</td><td>4</td><td>3</td><td>5</td><td>5</td><td>4</td><td>2</td><td>4</td><td>4</td><td>5</td><td>4</td><td>5</td></tr>\n",
       "\t<tr><th scope=row>16</th><td>4</td><td>4</td><td>3</td><td>5</td><td>5</td><td>2</td><td>5</td><td>2</td><td>4</td><td>5</td><td>4</td><td>5</td></tr>\n",
       "\t<tr><th scope=row>17</th><td>4</td><td>4</td><td>1</td><td>4</td><td>4</td><td>5</td><td>5</td><td>5</td><td>3</td><td>4</td><td>5</td><td>4</td></tr>\n",
       "\t<tr><th scope=row>18</th><td>1</td><td>2</td><td>2</td><td>4</td><td>5</td><td>2</td><td>2</td><td>1</td><td>3</td><td>4</td><td>5</td><td>4</td></tr>\n",
       "\t<tr><th scope=row>20</th><td>4</td><td>4</td><td>4</td><td>3</td><td>5</td><td>5</td><td>3</td><td>4</td><td>4</td><td>4</td><td>3</td><td>4</td></tr>\n",
       "\t<tr><th scope=row>21</th><td>5</td><td>4</td><td>4</td><td>5</td><td>5</td><td>4</td><td>3</td><td>4</td><td>2</td><td>4</td><td>4</td><td>5</td></tr>\n",
       "\t<tr><th scope=row>22</th><td>4</td><td>5</td><td>5</td><td>5</td><td>5</td><td>4</td><td>4</td><td>5</td><td>5</td><td>4</td><td>4</td><td>5</td></tr>\n",
       "\t<tr><th scope=row>23</th><td>5</td><td>5</td><td>5</td><td>5</td><td>5</td><td>5</td><td>5</td><td>5</td><td>4</td><td>4</td><td>5</td><td>5</td></tr>\n",
       "\t<tr><th scope=row>24</th><td>4</td><td>5</td><td>5</td><td>5</td><td>5</td><td>4</td><td>5</td><td>5</td><td>4</td><td>4</td><td>5</td><td>5</td></tr>\n",
       "\t<tr><th scope=row>25</th><td>5</td><td>5</td><td>5</td><td>5</td><td>5</td><td>4</td><td>5</td><td>5</td><td>5</td><td>4</td><td>5</td><td>4</td></tr>\n",
       "\t<tr><th scope=row>26</th><td>5</td><td>5</td><td>5</td><td>5</td><td>5</td><td>4</td><td>4</td><td>5</td><td>5</td><td>5</td><td>3</td><td>5</td></tr>\n",
       "\t<tr><th scope=row>27</th><td>4</td><td>4</td><td>5</td><td>5</td><td>4</td><td>5</td><td>5</td><td>5</td><td>4</td><td>5</td><td>4</td><td>4</td></tr>\n",
       "\t<tr><th scope=row>28</th><td>5</td><td>4</td><td>5</td><td>5</td><td>5</td><td>5</td><td>4</td><td>5</td><td>4</td><td>4</td><td>4</td><td>4</td></tr>\n",
       "\t<tr><th scope=row>29</th><td>5</td><td>4</td><td>3</td><td>5</td><td>3</td><td>5</td><td>4</td><td>4</td><td>5</td><td>4</td><td>3</td><td>4</td></tr>\n",
       "\t<tr><th scope=row>30</th><td>4</td><td>5</td><td>4</td><td>4</td><td>4</td><td>4</td><td>4</td><td>4</td><td>4</td><td>4</td><td>5</td><td>4</td></tr>\n",
       "\t<tr><th scope=row>31</th><td>5</td><td>4</td><td>4</td><td>5</td><td>4</td><td>5</td><td>4</td><td>4</td><td>5</td><td>4</td><td>5</td><td>5</td></tr>\n",
       "\t<tr><th scope=row>32</th><td>5</td><td>4</td><td>3</td><td>5</td><td>5</td><td>3</td><td>4</td><td>2</td><td>5</td><td>5</td><td>4</td><td>4</td></tr>\n",
       "\t<tr><th scope=row>...</th><td>...</td><td>...</td><td>...</td><td>...</td><td>...</td><td>...</td><td>...</td><td>...</td><td>...</td><td>...</td><td>...</td><td>...</td></tr>\n",
       "\t<tr><th scope=row>468</th><td>4</td><td>5</td><td>4</td><td>3</td><td>5</td><td>3</td><td>2</td><td>1</td><td>4</td><td>3</td><td>4</td><td>3</td></tr>\n",
       "\t<tr><th scope=row>469</th><td>5</td><td>4</td><td>5</td><td>5</td><td>5</td><td>4</td><td>3</td><td>4</td><td>4</td><td>5</td><td>4</td><td>5</td></tr>\n",
       "\t<tr><th scope=row>470</th><td>5</td><td>5</td><td>5</td><td>4</td><td>5</td><td>4</td><td>4</td><td>4</td><td>4</td><td>4</td><td>4</td><td>5</td></tr>\n",
       "\t<tr><th scope=row>471</th><td>5</td><td>4</td><td>4</td><td>5</td><td>3</td><td>5</td><td>4</td><td>5</td><td>4</td><td>5</td><td>4</td><td>5</td></tr>\n",
       "\t<tr><th scope=row>472</th><td>5</td><td>4</td><td>4</td><td>4</td><td>3</td><td>4</td><td>4</td><td>4</td><td>5</td><td>4</td><td>4</td><td>4</td></tr>\n",
       "\t<tr><th scope=row>473</th><td>5</td><td>5</td><td>4</td><td>5</td><td>5</td><td>5</td><td>5</td><td>5</td><td>4</td><td>4</td><td>5</td><td>4</td></tr>\n",
       "\t<tr><th scope=row>474</th><td>4</td><td>4</td><td>5</td><td>4</td><td>5</td><td>4</td><td>5</td><td>4</td><td>4</td><td>5</td><td>4</td><td>5</td></tr>\n",
       "\t<tr><th scope=row>475</th><td>4</td><td>2</td><td>4</td><td>4</td><td>4</td><td>4</td><td>4</td><td>4</td><td>5</td><td>4</td><td>4</td><td>4</td></tr>\n",
       "\t<tr><th scope=row>476</th><td>3</td><td>4</td><td>4</td><td>3</td><td>4</td><td>4</td><td>4</td><td>3</td><td>4</td><td>3</td><td>4</td><td>4</td></tr>\n",
       "\t<tr><th scope=row>477</th><td>4</td><td>4</td><td>4</td><td>3</td><td>3</td><td>4</td><td>3</td><td>4</td><td>3</td><td>4</td><td>3</td><td>4</td></tr>\n",
       "\t<tr><th scope=row>478</th><td>4</td><td>4</td><td>3</td><td>5</td><td>5</td><td>4</td><td>2</td><td>4</td><td>4</td><td>4</td><td>5</td><td>4</td></tr>\n",
       "\t<tr><th scope=row>479</th><td>4</td><td>4</td><td>4</td><td>5</td><td>5</td><td>4</td><td>5</td><td>4</td><td>5</td><td>4</td><td>4</td><td>4</td></tr>\n",
       "\t<tr><th scope=row>480</th><td>5</td><td>4</td><td>5</td><td>5</td><td>4</td><td>4</td><td>4</td><td>4</td><td>4</td><td>5</td><td>4</td><td>4</td></tr>\n",
       "\t<tr><th scope=row>481</th><td>3</td><td>4</td><td>4</td><td>5</td><td>5</td><td>4</td><td>3</td><td>4</td><td>4</td><td>5</td><td>5</td><td>4</td></tr>\n",
       "\t<tr><th scope=row>482</th><td>5</td><td>5</td><td>5</td><td>5</td><td>5</td><td>5</td><td>5</td><td>5</td><td>5</td><td>5</td><td>5</td><td>5</td></tr>\n",
       "\t<tr><th scope=row>483</th><td>4</td><td>2</td><td>3</td><td>1</td><td>1</td><td>3</td><td>3</td><td>4</td><td>4</td><td>3</td><td>4</td><td>3</td></tr>\n",
       "\t<tr><th scope=row>484</th><td>4</td><td>5</td><td>5</td><td>4</td><td>4</td><td>4</td><td>5</td><td>5</td><td>5</td><td>4</td><td>4</td><td>5</td></tr>\n",
       "\t<tr><th scope=row>485</th><td>4</td><td>4</td><td>3</td><td>4</td><td>3</td><td>4</td><td>4</td><td>2</td><td>3</td><td>2</td><td>4</td><td>5</td></tr>\n",
       "\t<tr><th scope=row>486</th><td>4</td><td>4</td><td>5</td><td>4</td><td>4</td><td>5</td><td>5</td><td>4</td><td>4</td><td>4</td><td>5</td><td>5</td></tr>\n",
       "\t<tr><th scope=row>488</th><td>5</td><td>5</td><td>5</td><td>5</td><td>5</td><td>5</td><td>5</td><td>5</td><td>4</td><td>4</td><td>5</td><td>5</td></tr>\n",
       "\t<tr><th scope=row>489</th><td>5</td><td>4</td><td>3</td><td>3</td><td>4</td><td>4</td><td>2</td><td>3</td><td>4</td><td>3</td><td>5</td><td>3</td></tr>\n",
       "\t<tr><th scope=row>491</th><td>5</td><td>5</td><td>4</td><td>5</td><td>4</td><td>4</td><td>5</td><td>5</td><td>5</td><td>4</td><td>4</td><td>5</td></tr>\n",
       "\t<tr><th scope=row>492</th><td>5</td><td>4</td><td>5</td><td>5</td><td>4</td><td>5</td><td>5</td><td>5</td><td>5</td><td>4</td><td>4</td><td>4</td></tr>\n",
       "\t<tr><th scope=row>493</th><td>4</td><td>4</td><td>5</td><td>3</td><td>4</td><td>3</td><td>4</td><td>3</td><td>4</td><td>3</td><td>4</td><td>3</td></tr>\n",
       "\t<tr><th scope=row>495</th><td>5</td><td>5</td><td>5</td><td>5</td><td>5</td><td>5</td><td>5</td><td>5</td><td>5</td><td>5</td><td>5</td><td>5</td></tr>\n",
       "\t<tr><th scope=row>496</th><td>2</td><td>2</td><td>2</td><td>2</td><td>2</td><td>2</td><td>2</td><td>2</td><td>2</td><td>2</td><td>2</td><td>2</td></tr>\n",
       "\t<tr><th scope=row>497</th><td>2</td><td>5</td><td>5</td><td>4</td><td>5</td><td>5</td><td>5</td><td>3</td><td>5</td><td>5</td><td>5</td><td>5</td></tr>\n",
       "\t<tr><th scope=row>498</th><td>2</td><td>2</td><td>2</td><td>2</td><td>2</td><td>1</td><td>2</td><td>1</td><td>2</td><td>1</td><td>2</td><td>1</td></tr>\n",
       "\t<tr><th scope=row>499</th><td>5</td><td>4</td><td>4</td><td>3</td><td>2</td><td>4</td><td>3</td><td>2</td><td>5</td><td>4</td><td>3</td><td>2</td></tr>\n",
       "\t<tr><th scope=row>500</th><td>2</td><td>2</td><td>2</td><td>2</td><td>2</td><td>2</td><td>2</td><td>2</td><td>2</td><td>2</td><td>2</td><td>2</td></tr>\n",
       "</tbody>\n",
       "</table>\n"
      ],
      "text/latex": [
       "A data.frame: 464 × 12\n",
       "\\begin{tabular}{r|llllllllllll}\n",
       "  & Area1 & Area2 & Area3 & Area4 & Area5 & Area6 & Area7 & Area8 & Area9 & Area10 & Area11 & Area12\\\\\n",
       "  & <dbl> & <dbl> & <dbl> & <dbl> & <dbl> & <dbl> & <dbl> & <dbl> & <dbl> & <dbl> & <dbl> & <dbl>\\\\\n",
       "\\hline\n",
       "\t1 & 5 & 5 & 5 & 5 & 5 & 5 & 5 & 5 & 5 & 5 & 5 & 5\\\\\n",
       "\t2 & 4 & 5 & 4 & 4 & 4 & 5 & 4 & 5 & 4 & 4 & 5 & 5\\\\\n",
       "\t3 & 4 & 5 & 5 & 5 & 5 & 5 & 5 & 5 & 4 & 5 & 5 & 5\\\\\n",
       "\t4 & 5 & 5 & 5 & 5 & 5 & 5 & 5 & 5 & 5 & 5 & 5 & 5\\\\\n",
       "\t5 & 5 & 5 & 5 & 5 & 4 & 5 & 5 & 4 & 5 & 5 & 4 & 4\\\\\n",
       "\t6 & 5 & 5 & 4 & 5 & 5 & 5 & 5 & 5 & 5 & 4 & 5 & 5\\\\\n",
       "\t7 & 5 & 4 & 5 & 4 & 5 & 5 & 5 & 5 & 5 & 4 & 5 & 5\\\\\n",
       "\t8 & 5 & 5 & 5 & 5 & 5 & 5 & 5 & 5 & 5 & 5 & 5 & 5\\\\\n",
       "\t9 & 5 & 5 & 5 & 5 & 5 & 5 & 5 & 5 & 5 & 5 & 5 & 5\\\\\n",
       "\t11 & 5 & 4 & 5 & 4 & 4 & 4 & 4 & 3 & 4 & 5 & 5 & 4\\\\\n",
       "\t12 & 5 & 4 & 5 & 5 & 5 & 4 & 5 & 3 & 4 & 4 & 5 & 5\\\\\n",
       "\t13 & 4 & 4 & 4 & 4 & 5 & 4 & 4 & 5 & 5 & 4 & 4 & 5\\\\\n",
       "\t14 & 5 & 5 & 5 & 4 & 5 & 4 & 4 & 5 & 5 & 5 & 4 & 5\\\\\n",
       "\t15 & 4 & 4 & 3 & 5 & 5 & 4 & 2 & 4 & 4 & 5 & 4 & 5\\\\\n",
       "\t16 & 4 & 4 & 3 & 5 & 5 & 2 & 5 & 2 & 4 & 5 & 4 & 5\\\\\n",
       "\t17 & 4 & 4 & 1 & 4 & 4 & 5 & 5 & 5 & 3 & 4 & 5 & 4\\\\\n",
       "\t18 & 1 & 2 & 2 & 4 & 5 & 2 & 2 & 1 & 3 & 4 & 5 & 4\\\\\n",
       "\t20 & 4 & 4 & 4 & 3 & 5 & 5 & 3 & 4 & 4 & 4 & 3 & 4\\\\\n",
       "\t21 & 5 & 4 & 4 & 5 & 5 & 4 & 3 & 4 & 2 & 4 & 4 & 5\\\\\n",
       "\t22 & 4 & 5 & 5 & 5 & 5 & 4 & 4 & 5 & 5 & 4 & 4 & 5\\\\\n",
       "\t23 & 5 & 5 & 5 & 5 & 5 & 5 & 5 & 5 & 4 & 4 & 5 & 5\\\\\n",
       "\t24 & 4 & 5 & 5 & 5 & 5 & 4 & 5 & 5 & 4 & 4 & 5 & 5\\\\\n",
       "\t25 & 5 & 5 & 5 & 5 & 5 & 4 & 5 & 5 & 5 & 4 & 5 & 4\\\\\n",
       "\t26 & 5 & 5 & 5 & 5 & 5 & 4 & 4 & 5 & 5 & 5 & 3 & 5\\\\\n",
       "\t27 & 4 & 4 & 5 & 5 & 4 & 5 & 5 & 5 & 4 & 5 & 4 & 4\\\\\n",
       "\t28 & 5 & 4 & 5 & 5 & 5 & 5 & 4 & 5 & 4 & 4 & 4 & 4\\\\\n",
       "\t29 & 5 & 4 & 3 & 5 & 3 & 5 & 4 & 4 & 5 & 4 & 3 & 4\\\\\n",
       "\t30 & 4 & 5 & 4 & 4 & 4 & 4 & 4 & 4 & 4 & 4 & 5 & 4\\\\\n",
       "\t31 & 5 & 4 & 4 & 5 & 4 & 5 & 4 & 4 & 5 & 4 & 5 & 5\\\\\n",
       "\t32 & 5 & 4 & 3 & 5 & 5 & 3 & 4 & 2 & 5 & 5 & 4 & 4\\\\\n",
       "\t... & ... & ... & ... & ... & ... & ... & ... & ... & ... & ... & ... & ...\\\\\n",
       "\t468 & 4 & 5 & 4 & 3 & 5 & 3 & 2 & 1 & 4 & 3 & 4 & 3\\\\\n",
       "\t469 & 5 & 4 & 5 & 5 & 5 & 4 & 3 & 4 & 4 & 5 & 4 & 5\\\\\n",
       "\t470 & 5 & 5 & 5 & 4 & 5 & 4 & 4 & 4 & 4 & 4 & 4 & 5\\\\\n",
       "\t471 & 5 & 4 & 4 & 5 & 3 & 5 & 4 & 5 & 4 & 5 & 4 & 5\\\\\n",
       "\t472 & 5 & 4 & 4 & 4 & 3 & 4 & 4 & 4 & 5 & 4 & 4 & 4\\\\\n",
       "\t473 & 5 & 5 & 4 & 5 & 5 & 5 & 5 & 5 & 4 & 4 & 5 & 4\\\\\n",
       "\t474 & 4 & 4 & 5 & 4 & 5 & 4 & 5 & 4 & 4 & 5 & 4 & 5\\\\\n",
       "\t475 & 4 & 2 & 4 & 4 & 4 & 4 & 4 & 4 & 5 & 4 & 4 & 4\\\\\n",
       "\t476 & 3 & 4 & 4 & 3 & 4 & 4 & 4 & 3 & 4 & 3 & 4 & 4\\\\\n",
       "\t477 & 4 & 4 & 4 & 3 & 3 & 4 & 3 & 4 & 3 & 4 & 3 & 4\\\\\n",
       "\t478 & 4 & 4 & 3 & 5 & 5 & 4 & 2 & 4 & 4 & 4 & 5 & 4\\\\\n",
       "\t479 & 4 & 4 & 4 & 5 & 5 & 4 & 5 & 4 & 5 & 4 & 4 & 4\\\\\n",
       "\t480 & 5 & 4 & 5 & 5 & 4 & 4 & 4 & 4 & 4 & 5 & 4 & 4\\\\\n",
       "\t481 & 3 & 4 & 4 & 5 & 5 & 4 & 3 & 4 & 4 & 5 & 5 & 4\\\\\n",
       "\t482 & 5 & 5 & 5 & 5 & 5 & 5 & 5 & 5 & 5 & 5 & 5 & 5\\\\\n",
       "\t483 & 4 & 2 & 3 & 1 & 1 & 3 & 3 & 4 & 4 & 3 & 4 & 3\\\\\n",
       "\t484 & 4 & 5 & 5 & 4 & 4 & 4 & 5 & 5 & 5 & 4 & 4 & 5\\\\\n",
       "\t485 & 4 & 4 & 3 & 4 & 3 & 4 & 4 & 2 & 3 & 2 & 4 & 5\\\\\n",
       "\t486 & 4 & 4 & 5 & 4 & 4 & 5 & 5 & 4 & 4 & 4 & 5 & 5\\\\\n",
       "\t488 & 5 & 5 & 5 & 5 & 5 & 5 & 5 & 5 & 4 & 4 & 5 & 5\\\\\n",
       "\t489 & 5 & 4 & 3 & 3 & 4 & 4 & 2 & 3 & 4 & 3 & 5 & 3\\\\\n",
       "\t491 & 5 & 5 & 4 & 5 & 4 & 4 & 5 & 5 & 5 & 4 & 4 & 5\\\\\n",
       "\t492 & 5 & 4 & 5 & 5 & 4 & 5 & 5 & 5 & 5 & 4 & 4 & 4\\\\\n",
       "\t493 & 4 & 4 & 5 & 3 & 4 & 3 & 4 & 3 & 4 & 3 & 4 & 3\\\\\n",
       "\t495 & 5 & 5 & 5 & 5 & 5 & 5 & 5 & 5 & 5 & 5 & 5 & 5\\\\\n",
       "\t496 & 2 & 2 & 2 & 2 & 2 & 2 & 2 & 2 & 2 & 2 & 2 & 2\\\\\n",
       "\t497 & 2 & 5 & 5 & 4 & 5 & 5 & 5 & 3 & 5 & 5 & 5 & 5\\\\\n",
       "\t498 & 2 & 2 & 2 & 2 & 2 & 1 & 2 & 1 & 2 & 1 & 2 & 1\\\\\n",
       "\t499 & 5 & 4 & 4 & 3 & 2 & 4 & 3 & 2 & 5 & 4 & 3 & 2\\\\\n",
       "\t500 & 2 & 2 & 2 & 2 & 2 & 2 & 2 & 2 & 2 & 2 & 2 & 2\\\\\n",
       "\\end{tabular}\n"
      ],
      "text/markdown": [
       "\n",
       "A data.frame: 464 × 12\n",
       "\n",
       "| <!--/--> | Area1 &lt;dbl&gt; | Area2 &lt;dbl&gt; | Area3 &lt;dbl&gt; | Area4 &lt;dbl&gt; | Area5 &lt;dbl&gt; | Area6 &lt;dbl&gt; | Area7 &lt;dbl&gt; | Area8 &lt;dbl&gt; | Area9 &lt;dbl&gt; | Area10 &lt;dbl&gt; | Area11 &lt;dbl&gt; | Area12 &lt;dbl&gt; |\n",
       "|---|---|---|---|---|---|---|---|---|---|---|---|---|\n",
       "| 1 | 5 | 5 | 5 | 5 | 5 | 5 | 5 | 5 | 5 | 5 | 5 | 5 |\n",
       "| 2 | 4 | 5 | 4 | 4 | 4 | 5 | 4 | 5 | 4 | 4 | 5 | 5 |\n",
       "| 3 | 4 | 5 | 5 | 5 | 5 | 5 | 5 | 5 | 4 | 5 | 5 | 5 |\n",
       "| 4 | 5 | 5 | 5 | 5 | 5 | 5 | 5 | 5 | 5 | 5 | 5 | 5 |\n",
       "| 5 | 5 | 5 | 5 | 5 | 4 | 5 | 5 | 4 | 5 | 5 | 4 | 4 |\n",
       "| 6 | 5 | 5 | 4 | 5 | 5 | 5 | 5 | 5 | 5 | 4 | 5 | 5 |\n",
       "| 7 | 5 | 4 | 5 | 4 | 5 | 5 | 5 | 5 | 5 | 4 | 5 | 5 |\n",
       "| 8 | 5 | 5 | 5 | 5 | 5 | 5 | 5 | 5 | 5 | 5 | 5 | 5 |\n",
       "| 9 | 5 | 5 | 5 | 5 | 5 | 5 | 5 | 5 | 5 | 5 | 5 | 5 |\n",
       "| 11 | 5 | 4 | 5 | 4 | 4 | 4 | 4 | 3 | 4 | 5 | 5 | 4 |\n",
       "| 12 | 5 | 4 | 5 | 5 | 5 | 4 | 5 | 3 | 4 | 4 | 5 | 5 |\n",
       "| 13 | 4 | 4 | 4 | 4 | 5 | 4 | 4 | 5 | 5 | 4 | 4 | 5 |\n",
       "| 14 | 5 | 5 | 5 | 4 | 5 | 4 | 4 | 5 | 5 | 5 | 4 | 5 |\n",
       "| 15 | 4 | 4 | 3 | 5 | 5 | 4 | 2 | 4 | 4 | 5 | 4 | 5 |\n",
       "| 16 | 4 | 4 | 3 | 5 | 5 | 2 | 5 | 2 | 4 | 5 | 4 | 5 |\n",
       "| 17 | 4 | 4 | 1 | 4 | 4 | 5 | 5 | 5 | 3 | 4 | 5 | 4 |\n",
       "| 18 | 1 | 2 | 2 | 4 | 5 | 2 | 2 | 1 | 3 | 4 | 5 | 4 |\n",
       "| 20 | 4 | 4 | 4 | 3 | 5 | 5 | 3 | 4 | 4 | 4 | 3 | 4 |\n",
       "| 21 | 5 | 4 | 4 | 5 | 5 | 4 | 3 | 4 | 2 | 4 | 4 | 5 |\n",
       "| 22 | 4 | 5 | 5 | 5 | 5 | 4 | 4 | 5 | 5 | 4 | 4 | 5 |\n",
       "| 23 | 5 | 5 | 5 | 5 | 5 | 5 | 5 | 5 | 4 | 4 | 5 | 5 |\n",
       "| 24 | 4 | 5 | 5 | 5 | 5 | 4 | 5 | 5 | 4 | 4 | 5 | 5 |\n",
       "| 25 | 5 | 5 | 5 | 5 | 5 | 4 | 5 | 5 | 5 | 4 | 5 | 4 |\n",
       "| 26 | 5 | 5 | 5 | 5 | 5 | 4 | 4 | 5 | 5 | 5 | 3 | 5 |\n",
       "| 27 | 4 | 4 | 5 | 5 | 4 | 5 | 5 | 5 | 4 | 5 | 4 | 4 |\n",
       "| 28 | 5 | 4 | 5 | 5 | 5 | 5 | 4 | 5 | 4 | 4 | 4 | 4 |\n",
       "| 29 | 5 | 4 | 3 | 5 | 3 | 5 | 4 | 4 | 5 | 4 | 3 | 4 |\n",
       "| 30 | 4 | 5 | 4 | 4 | 4 | 4 | 4 | 4 | 4 | 4 | 5 | 4 |\n",
       "| 31 | 5 | 4 | 4 | 5 | 4 | 5 | 4 | 4 | 5 | 4 | 5 | 5 |\n",
       "| 32 | 5 | 4 | 3 | 5 | 5 | 3 | 4 | 2 | 5 | 5 | 4 | 4 |\n",
       "| ... | ... | ... | ... | ... | ... | ... | ... | ... | ... | ... | ... | ... |\n",
       "| 468 | 4 | 5 | 4 | 3 | 5 | 3 | 2 | 1 | 4 | 3 | 4 | 3 |\n",
       "| 469 | 5 | 4 | 5 | 5 | 5 | 4 | 3 | 4 | 4 | 5 | 4 | 5 |\n",
       "| 470 | 5 | 5 | 5 | 4 | 5 | 4 | 4 | 4 | 4 | 4 | 4 | 5 |\n",
       "| 471 | 5 | 4 | 4 | 5 | 3 | 5 | 4 | 5 | 4 | 5 | 4 | 5 |\n",
       "| 472 | 5 | 4 | 4 | 4 | 3 | 4 | 4 | 4 | 5 | 4 | 4 | 4 |\n",
       "| 473 | 5 | 5 | 4 | 5 | 5 | 5 | 5 | 5 | 4 | 4 | 5 | 4 |\n",
       "| 474 | 4 | 4 | 5 | 4 | 5 | 4 | 5 | 4 | 4 | 5 | 4 | 5 |\n",
       "| 475 | 4 | 2 | 4 | 4 | 4 | 4 | 4 | 4 | 5 | 4 | 4 | 4 |\n",
       "| 476 | 3 | 4 | 4 | 3 | 4 | 4 | 4 | 3 | 4 | 3 | 4 | 4 |\n",
       "| 477 | 4 | 4 | 4 | 3 | 3 | 4 | 3 | 4 | 3 | 4 | 3 | 4 |\n",
       "| 478 | 4 | 4 | 3 | 5 | 5 | 4 | 2 | 4 | 4 | 4 | 5 | 4 |\n",
       "| 479 | 4 | 4 | 4 | 5 | 5 | 4 | 5 | 4 | 5 | 4 | 4 | 4 |\n",
       "| 480 | 5 | 4 | 5 | 5 | 4 | 4 | 4 | 4 | 4 | 5 | 4 | 4 |\n",
       "| 481 | 3 | 4 | 4 | 5 | 5 | 4 | 3 | 4 | 4 | 5 | 5 | 4 |\n",
       "| 482 | 5 | 5 | 5 | 5 | 5 | 5 | 5 | 5 | 5 | 5 | 5 | 5 |\n",
       "| 483 | 4 | 2 | 3 | 1 | 1 | 3 | 3 | 4 | 4 | 3 | 4 | 3 |\n",
       "| 484 | 4 | 5 | 5 | 4 | 4 | 4 | 5 | 5 | 5 | 4 | 4 | 5 |\n",
       "| 485 | 4 | 4 | 3 | 4 | 3 | 4 | 4 | 2 | 3 | 2 | 4 | 5 |\n",
       "| 486 | 4 | 4 | 5 | 4 | 4 | 5 | 5 | 4 | 4 | 4 | 5 | 5 |\n",
       "| 488 | 5 | 5 | 5 | 5 | 5 | 5 | 5 | 5 | 4 | 4 | 5 | 5 |\n",
       "| 489 | 5 | 4 | 3 | 3 | 4 | 4 | 2 | 3 | 4 | 3 | 5 | 3 |\n",
       "| 491 | 5 | 5 | 4 | 5 | 4 | 4 | 5 | 5 | 5 | 4 | 4 | 5 |\n",
       "| 492 | 5 | 4 | 5 | 5 | 4 | 5 | 5 | 5 | 5 | 4 | 4 | 4 |\n",
       "| 493 | 4 | 4 | 5 | 3 | 4 | 3 | 4 | 3 | 4 | 3 | 4 | 3 |\n",
       "| 495 | 5 | 5 | 5 | 5 | 5 | 5 | 5 | 5 | 5 | 5 | 5 | 5 |\n",
       "| 496 | 2 | 2 | 2 | 2 | 2 | 2 | 2 | 2 | 2 | 2 | 2 | 2 |\n",
       "| 497 | 2 | 5 | 5 | 4 | 5 | 5 | 5 | 3 | 5 | 5 | 5 | 5 |\n",
       "| 498 | 2 | 2 | 2 | 2 | 2 | 1 | 2 | 1 | 2 | 1 | 2 | 1 |\n",
       "| 499 | 5 | 4 | 4 | 3 | 2 | 4 | 3 | 2 | 5 | 4 | 3 | 2 |\n",
       "| 500 | 2 | 2 | 2 | 2 | 2 | 2 | 2 | 2 | 2 | 2 | 2 | 2 |\n",
       "\n"
      ],
      "text/plain": [
       "    Area1 Area2 Area3 Area4 Area5 Area6 Area7 Area8 Area9 Area10 Area11 Area12\n",
       "1   5     5     5     5     5     5     5     5     5     5      5      5     \n",
       "2   4     5     4     4     4     5     4     5     4     4      5      5     \n",
       "3   4     5     5     5     5     5     5     5     4     5      5      5     \n",
       "4   5     5     5     5     5     5     5     5     5     5      5      5     \n",
       "5   5     5     5     5     4     5     5     4     5     5      4      4     \n",
       "6   5     5     4     5     5     5     5     5     5     4      5      5     \n",
       "7   5     4     5     4     5     5     5     5     5     4      5      5     \n",
       "8   5     5     5     5     5     5     5     5     5     5      5      5     \n",
       "9   5     5     5     5     5     5     5     5     5     5      5      5     \n",
       "11  5     4     5     4     4     4     4     3     4     5      5      4     \n",
       "12  5     4     5     5     5     4     5     3     4     4      5      5     \n",
       "13  4     4     4     4     5     4     4     5     5     4      4      5     \n",
       "14  5     5     5     4     5     4     4     5     5     5      4      5     \n",
       "15  4     4     3     5     5     4     2     4     4     5      4      5     \n",
       "16  4     4     3     5     5     2     5     2     4     5      4      5     \n",
       "17  4     4     1     4     4     5     5     5     3     4      5      4     \n",
       "18  1     2     2     4     5     2     2     1     3     4      5      4     \n",
       "20  4     4     4     3     5     5     3     4     4     4      3      4     \n",
       "21  5     4     4     5     5     4     3     4     2     4      4      5     \n",
       "22  4     5     5     5     5     4     4     5     5     4      4      5     \n",
       "23  5     5     5     5     5     5     5     5     4     4      5      5     \n",
       "24  4     5     5     5     5     4     5     5     4     4      5      5     \n",
       "25  5     5     5     5     5     4     5     5     5     4      5      4     \n",
       "26  5     5     5     5     5     4     4     5     5     5      3      5     \n",
       "27  4     4     5     5     4     5     5     5     4     5      4      4     \n",
       "28  5     4     5     5     5     5     4     5     4     4      4      4     \n",
       "29  5     4     3     5     3     5     4     4     5     4      3      4     \n",
       "30  4     5     4     4     4     4     4     4     4     4      5      4     \n",
       "31  5     4     4     5     4     5     4     4     5     4      5      5     \n",
       "32  5     4     3     5     5     3     4     2     5     5      4      4     \n",
       "... ...   ...   ...   ...   ...   ...   ...   ...   ...   ...    ...    ...   \n",
       "468 4     5     4     3     5     3     2     1     4     3      4      3     \n",
       "469 5     4     5     5     5     4     3     4     4     5      4      5     \n",
       "470 5     5     5     4     5     4     4     4     4     4      4      5     \n",
       "471 5     4     4     5     3     5     4     5     4     5      4      5     \n",
       "472 5     4     4     4     3     4     4     4     5     4      4      4     \n",
       "473 5     5     4     5     5     5     5     5     4     4      5      4     \n",
       "474 4     4     5     4     5     4     5     4     4     5      4      5     \n",
       "475 4     2     4     4     4     4     4     4     5     4      4      4     \n",
       "476 3     4     4     3     4     4     4     3     4     3      4      4     \n",
       "477 4     4     4     3     3     4     3     4     3     4      3      4     \n",
       "478 4     4     3     5     5     4     2     4     4     4      5      4     \n",
       "479 4     4     4     5     5     4     5     4     5     4      4      4     \n",
       "480 5     4     5     5     4     4     4     4     4     5      4      4     \n",
       "481 3     4     4     5     5     4     3     4     4     5      5      4     \n",
       "482 5     5     5     5     5     5     5     5     5     5      5      5     \n",
       "483 4     2     3     1     1     3     3     4     4     3      4      3     \n",
       "484 4     5     5     4     4     4     5     5     5     4      4      5     \n",
       "485 4     4     3     4     3     4     4     2     3     2      4      5     \n",
       "486 4     4     5     4     4     5     5     4     4     4      5      5     \n",
       "488 5     5     5     5     5     5     5     5     4     4      5      5     \n",
       "489 5     4     3     3     4     4     2     3     4     3      5      3     \n",
       "491 5     5     4     5     4     4     5     5     5     4      4      5     \n",
       "492 5     4     5     5     4     5     5     5     5     4      4      4     \n",
       "493 4     4     5     3     4     3     4     3     4     3      4      3     \n",
       "495 5     5     5     5     5     5     5     5     5     5      5      5     \n",
       "496 2     2     2     2     2     2     2     2     2     2      2      2     \n",
       "497 2     5     5     4     5     5     5     3     5     5      5      5     \n",
       "498 2     2     2     2     2     1     2     1     2     1      2      1     \n",
       "499 5     4     4     3     2     4     3     2     5     4      3      2     \n",
       "500 2     2     2     2     2     2     2     2     2     2      2      2     "
      ]
     },
     "metadata": {},
     "output_type": "display_data"
    }
   ],
   "source": [
    "View(round(studentSurvey2, 2))"
   ]
  },
  {
   "cell_type": "markdown",
   "id": "a3ca5ccd-8c46-49e3-8a30-05cdab0a3afd",
   "metadata": {},
   "source": [
    "Bartlett's Test"
   ]
  },
  {
   "cell_type": "code",
   "execution_count": 12,
   "id": "178381ce-8870-44b1-a46f-7d47b45501de",
   "metadata": {
    "vscode": {
     "languageId": "r"
    }
   },
   "outputs": [
    {
     "name": "stderr",
     "output_type": "stream",
     "text": [
      "R was not square, finding R from data\n",
      "\n"
     ]
    },
    {
     "data": {
      "text/html": [
       "<dl>\n",
       "\t<dt>$chisq</dt>\n",
       "\t\t<dd>2807.7070724851</dd>\n",
       "\t<dt>$p.value</dt>\n",
       "\t\t<dd>0</dd>\n",
       "\t<dt>$df</dt>\n",
       "\t\t<dd>66</dd>\n",
       "</dl>\n"
      ],
      "text/latex": [
       "\\begin{description}\n",
       "\\item[\\$chisq] 2807.7070724851\n",
       "\\item[\\$p.value] 0\n",
       "\\item[\\$df] 66\n",
       "\\end{description}\n"
      ],
      "text/markdown": [
       "$chisq\n",
       ":   2807.7070724851\n",
       "$p.value\n",
       ":   0\n",
       "$df\n",
       ":   66\n",
       "\n",
       "\n"
      ],
      "text/plain": [
       "$chisq\n",
       "[1] 2807.707\n",
       "\n",
       "$p.value\n",
       "[1] 0\n",
       "\n",
       "$df\n",
       "[1] 66\n"
      ]
     },
     "metadata": {},
     "output_type": "display_data"
    }
   ],
   "source": [
    "cortest.bartlett(studentSurvey2)"
   ]
  },
  {
   "cell_type": "markdown",
   "id": "7dbd5cd2-f12d-4cd9-b808-0fae9350446d",
   "metadata": {},
   "source": [
    "Check your Determinants"
   ]
  },
  {
   "cell_type": "code",
   "execution_count": 13,
   "id": "c3375393-e985-41d6-a813-fc6bc04aea35",
   "metadata": {
    "vscode": {
     "languageId": "r"
    }
   },
   "outputs": [
    {
     "data": {
      "text/html": [
       "0.00218064461136125"
      ],
      "text/latex": [
       "0.00218064461136125"
      ],
      "text/markdown": [
       "0.00218064461136125"
      ],
      "text/plain": [
       "[1] 0.002180645"
      ]
     },
     "metadata": {},
     "output_type": "display_data"
    }
   ],
   "source": [
    "det(studentSurveymatrix)"
   ]
  },
  {
   "cell_type": "markdown",
   "id": "d1cbbca6-4735-4c1e-a2dd-2b1c697d35c4",
   "metadata": {},
   "source": [
    "Factor Analysis in R: \n",
    "Initial Pass to Determine Approximate Number of Factors"
   ]
  },
  {
   "cell_type": "code",
   "execution_count": 14,
   "id": "78dfb9c7-ac30-4557-bd18-33b2e19e5195",
   "metadata": {
    "vscode": {
     "languageId": "r"
    }
   },
   "outputs": [
    {
     "data": {
      "text/plain": [
       "Principal Components Analysis\n",
       "Call: principal(r = studentSurvey1, nfactors = 12, rotate = \"none\")\n",
       "Standardized loadings (pattern matrix) based upon correlation matrix\n",
       "        PC1   PC2   PC3   PC4   PC5   PC6   PC7   PC8   PC9  PC10  PC11  PC12\n",
       "Area1  0.71  0.38 -0.14  0.34 -0.22  0.00 -0.15  0.03 -0.14  0.34 -0.05 -0.10\n",
       "Area2  0.76 -0.04 -0.08  0.13 -0.36  0.20 -0.04  0.27  0.21 -0.32 -0.07 -0.04\n",
       "Area3  0.76  0.16 -0.13  0.06 -0.11 -0.40 -0.08 -0.28 -0.10 -0.28  0.08  0.12\n",
       "Area4  0.71 -0.30 -0.29  0.24  0.24 -0.04  0.31  0.23 -0.24 -0.03  0.03  0.03\n",
       "Area5  0.71 -0.43  0.01  0.27  0.13 -0.06 -0.13 -0.19  0.35  0.16 -0.05  0.09\n",
       "Area6  0.78  0.09 -0.05 -0.29  0.04 -0.20  0.26 -0.05  0.13  0.06 -0.33 -0.22\n",
       "Area7  0.77 -0.03  0.04 -0.32 -0.20 -0.16  0.08  0.22  0.11  0.21  0.32  0.12\n",
       "Area8  0.68  0.36 -0.35 -0.21  0.33  0.27 -0.12 -0.02  0.11 -0.02  0.00  0.18\n",
       "Area9  0.65  0.34  0.53  0.22  0.30 -0.04  0.08  0.11  0.08 -0.09  0.10 -0.05\n",
       "Area10 0.75 -0.04  0.19 -0.02 -0.19  0.35  0.31 -0.35 -0.11  0.03  0.04  0.08\n",
       "Area11 0.76 -0.18  0.30 -0.17  0.00  0.00 -0.26  0.14 -0.26  0.02 -0.26  0.20\n",
       "Area12 0.79 -0.23 -0.01 -0.16  0.11  0.11 -0.25 -0.09 -0.12 -0.06  0.20 -0.37\n",
       "       h2       u2 com\n",
       "Area1   1 -4.4e-16 3.3\n",
       "Area2   1 -2.2e-16 2.7\n",
       "Area3   1  2.2e-16 2.6\n",
       "Area4   1 -2.2e-16 3.5\n",
       "Area5   1 -2.2e-16 3.2\n",
       "Area6   1  1.1e-16 2.5\n",
       "Area7   1 -2.2e-16 2.6\n",
       "Area8   1  5.6e-16 3.7\n",
       "Area9   1  4.4e-16 3.6\n",
       "Area10  1  2.2e-16 2.8\n",
       "Area11  1  0.0e+00 2.7\n",
       "Area12  1  1.1e-16 2.4\n",
       "\n",
       "                       PC1  PC2  PC3  PC4  PC5  PC6  PC7  PC8  PC9 PC10 PC11\n",
       "SS loadings           6.54 0.79 0.66 0.61 0.56 0.48 0.47 0.45 0.40 0.39 0.35\n",
       "Proportion Var        0.54 0.07 0.05 0.05 0.05 0.04 0.04 0.04 0.03 0.03 0.03\n",
       "Cumulative Var        0.54 0.61 0.67 0.72 0.76 0.80 0.84 0.88 0.91 0.94 0.97\n",
       "Proportion Explained  0.54 0.07 0.05 0.05 0.05 0.04 0.04 0.04 0.03 0.03 0.03\n",
       "Cumulative Proportion 0.54 0.61 0.67 0.72 0.76 0.80 0.84 0.88 0.91 0.94 0.97\n",
       "                      PC12\n",
       "SS loadings           0.31\n",
       "Proportion Var        0.03\n",
       "Cumulative Var        1.00\n",
       "Proportion Explained  0.03\n",
       "Cumulative Proportion 1.00\n",
       "\n",
       "Mean item complexity =  3\n",
       "Test of the hypothesis that 12 components are sufficient.\n",
       "\n",
       "The root mean square of the residuals (RMSR) is  0 \n",
       " with the empirical chi square  0  with prob <  NA \n",
       "\n",
       "Fit based upon off diagonal values = 1"
      ]
     },
     "metadata": {},
     "output_type": "display_data"
    }
   ],
   "source": [
    "Model <- principal(studentSurvey1, nfactors = 12, rotate = \"none\")\n",
    "Model"
   ]
  },
  {
   "cell_type": "markdown",
   "id": "d59acac4-14a5-4ee5-a94d-8bb792cf22e9",
   "metadata": {},
   "source": [
    "Examine the Scree Plot"
   ]
  },
  {
   "cell_type": "code",
   "execution_count": 15,
   "id": "9bfd5d19-6d08-4674-bb4e-ccde01fceef2",
   "metadata": {
    "vscode": {
     "languageId": "r"
    }
   },
   "outputs": [
    {
     "data": {
      "image/png": "[encoded data removed]",
      "text/plain": [
       "plot without title"
      ]
     },
     "metadata": {
      "image/png": {
       "height": 420,
       "width": 420
      }
     },
     "output_type": "display_data"
    }
   ],
   "source": [
    "plot(Model$values, type=\"b\")"
   ]
  },
  {
   "cell_type": "markdown",
   "id": "9f196733-079c-4da6-94b0-8260ab6330e2",
   "metadata": {},
   "source": [
    "What this graph shows is a clear break off where you can see that there is quite a jump down between 1 and 2, and another not-quite-so-large jump down between 2 and 3. The rest really seem to trail off after that. \n",
    "With this info, along with examining the eigenvalues, this tells me that there is only one factor."
   ]
  },
  {
   "cell_type": "markdown",
   "id": "51b89c1f-eea0-45fb-b146-86ab31616721",
   "metadata": {},
   "source": [
    "Examining Residuals to Determine Model Fit"
   ]
  },
  {
   "cell_type": "code",
   "execution_count": 16,
   "id": "86e417b4-2abf-46e2-bbe7-fa4c7493210f",
   "metadata": {
    "vscode": {
     "languageId": "r"
    }
   },
   "outputs": [],
   "source": [
    "residuals <- factor.residuals(studentSurveymatrix, Model$loadings)"
   ]
  },
  {
   "cell_type": "code",
   "execution_count": 17,
   "id": "cb93bd1c-1494-409c-a0fd-608437579c6c",
   "metadata": {
    "vscode": {
     "languageId": "r"
    }
   },
   "outputs": [],
   "source": [
    "residuals <- as.matrix(residuals[upper.tri(residuals)])"
   ]
  },
  {
   "cell_type": "code",
   "execution_count": 18,
   "id": "461015b8-c142-4345-9c9e-fa89f47aeb49",
   "metadata": {
    "vscode": {
     "languageId": "r"
    }
   },
   "outputs": [],
   "source": [
    "largeResid <- abs(residuals) > .05"
   ]
  },
  {
   "cell_type": "code",
   "execution_count": 19,
   "id": "ef5728b6-5b62-4abb-800d-3aff75461466",
   "metadata": {
    "vscode": {
     "languageId": "r"
    }
   },
   "outputs": [
    {
     "data": {
      "text/html": [
       "0"
      ],
      "text/latex": [
       "0"
      ],
      "text/markdown": [
       "0"
      ],
      "text/plain": [
       "[1] 0"
      ]
     },
     "metadata": {},
     "output_type": "display_data"
    }
   ],
   "source": [
    "sum(largeResid)"
   ]
  },
  {
   "cell_type": "code",
   "execution_count": 20,
   "id": "f1d5199f-7c56-4674-b8fd-7c2d224c0c47",
   "metadata": {
    "vscode": {
     "languageId": "r"
    }
   },
   "outputs": [
    {
     "data": {
      "text/html": [
       "0"
      ],
      "text/latex": [
       "0"
      ],
      "text/markdown": [
       "0"
      ],
      "text/plain": [
       "[1] 0"
      ]
     },
     "metadata": {},
     "output_type": "display_data"
    }
   ],
   "source": [
    "sum(largeResid/nrow(residuals))"
   ]
  },
  {
   "cell_type": "markdown",
   "id": "0165c030-240d-4190-b576-f53cd8f9d682",
   "metadata": {},
   "source": [
    "Oblique Rotation"
   ]
  },
  {
   "cell_type": "code",
   "execution_count": 21,
   "id": "26336c06-d612-4086-99bb-300a5c364752",
   "metadata": {
    "vscode": {
     "languageId": "r"
    }
   },
   "outputs": [
    {
     "data": {
      "text/plain": [
       "Principal Components Analysis\n",
       "Call: principal(r = studentSurvey, nfactors = 2, rotate = \"oblimin\")\n",
       "Standardized loadings (pattern matrix) based upon correlation matrix\n",
       "         TC1   TC2   h2   u2 com\n",
       "Area1  -0.03  0.82 0.65 0.35 1.0\n",
       "Area2   0.49  0.34 0.58 0.42 1.8\n",
       "Area3   0.26  0.58 0.61 0.39 1.4\n",
       "Area4   0.77  0.00 0.59 0.41 1.0\n",
       "Area5   0.93 -0.16 0.69 0.31 1.1\n",
       "Area6   0.35  0.52 0.62 0.38 1.8\n",
       "Area7   0.50  0.35 0.60 0.40 1.8\n",
       "Area8  -0.03  0.79 0.60 0.40 1.0\n",
       "Area9  -0.02  0.75 0.53 0.47 1.0\n",
       "Area10  0.49  0.34 0.56 0.44 1.8\n",
       "Area11  0.67  0.17 0.61 0.39 1.1\n",
       "Area12  0.74  0.12 0.68 0.32 1.1\n",
       "\n",
       "                       TC1  TC2\n",
       "SS loadings           3.90 3.43\n",
       "Proportion Var        0.33 0.29\n",
       "Cumulative Var        0.33 0.61\n",
       "Proportion Explained  0.53 0.47\n",
       "Cumulative Proportion 0.53 1.00\n",
       "\n",
       " With component correlations of \n",
       "     TC1  TC2\n",
       "TC1 1.00 0.65\n",
       "TC2 0.65 1.00\n",
       "\n",
       "Mean item complexity =  1.3\n",
       "Test of the hypothesis that 2 components are sufficient.\n",
       "\n",
       "The root mean square of the residuals (RMSR) is  0.06 \n",
       " with the empirical chi square  226.29  with prob <  1e-26 \n",
       "\n",
       "Fit based upon off diagonal values = 0.99"
      ]
     },
     "metadata": {},
     "output_type": "display_data"
    }
   ],
   "source": [
    "Model2 <- principal(studentSurvey, nfactors = 2, rotate = \"oblimin\")\n",
    "Model2"
   ]
  },
  {
   "cell_type": "code",
   "execution_count": 22,
   "id": "8893b71c-6b4d-4f76-8ddc-ff9fa7a99e1c",
   "metadata": {
    "vscode": {
     "languageId": "r"
    }
   },
   "outputs": [
    {
     "name": "stdout",
     "output_type": "stream",
     "text": [
      "Principal Components Analysis\n",
      "Call: principal(r = studentSurvey, nfactors = 2, rotate = \"oblimin\")\n",
      "Standardized loadings (pattern matrix) based upon correlation matrix\n",
      "       item   TC1   TC2   h2   u2 com\n",
      "Area5     5  0.93       0.69 0.31 1.1\n",
      "Area4     4  0.77       0.59 0.41 1.0\n",
      "Area12   12  0.74       0.68 0.32 1.1\n",
      "Area11   11  0.67       0.61 0.39 1.1\n",
      "Area7     7  0.50  0.35 0.60 0.40 1.8\n",
      "Area2     2  0.49  0.34 0.58 0.42 1.8\n",
      "Area10   10  0.49  0.34 0.56 0.44 1.8\n",
      "Area1     1        0.82 0.65 0.35 1.0\n",
      "Area8     8        0.79 0.60 0.40 1.0\n",
      "Area9     9        0.75 0.53 0.47 1.0\n",
      "Area3     3        0.58 0.61 0.39 1.4\n",
      "Area6     6  0.35  0.52 0.62 0.38 1.8\n",
      "\n",
      "                       TC1  TC2\n",
      "SS loadings           3.90 3.43\n",
      "Proportion Var        0.33 0.29\n",
      "Cumulative Var        0.33 0.61\n",
      "Proportion Explained  0.53 0.47\n",
      "Cumulative Proportion 0.53 1.00\n",
      "\n",
      " With component correlations of \n",
      "     TC1  TC2\n",
      "TC1 1.00 0.65\n",
      "TC2 0.65 1.00\n",
      "\n",
      "Mean item complexity =  1.3\n",
      "Test of the hypothesis that 2 components are sufficient.\n",
      "\n",
      "The root mean square of the residuals (RMSR) is  0.06 \n",
      " with the empirical chi square  226.29  with prob <  1e-26 \n",
      "\n",
      "Fit based upon off diagonal values = 0.99"
     ]
    }
   ],
   "source": [
    "print.psych(Model2, cut = .3, sort=TRUE)"
   ]
  },
  {
   "cell_type": "markdown",
   "id": "196b6107-6288-4cf8-a439-f753af4e32f8",
   "metadata": {},
   "source": [
    "Orthogonal Rotation"
   ]
  },
  {
   "cell_type": "code",
   "execution_count": 23,
   "id": "e8b0d777-5f88-479d-9424-e46221f63fd9",
   "metadata": {
    "vscode": {
     "languageId": "r"
    }
   },
   "outputs": [
    {
     "name": "stdout",
     "output_type": "stream",
     "text": [
      "Principal Components Analysis\n",
      "Call: principal(r = studentSurvey, nfactors = 2, rotate = \"varimax\")\n",
      "Standardized loadings (pattern matrix) based upon correlation matrix\n",
      "       item  RC1  RC2   h2   u2 com\n",
      "Area5     5 0.81      0.69 0.31 1.1\n",
      "Area12   12 0.74 0.37 0.68 0.32 1.5\n",
      "Area4     4 0.72      0.59 0.41 1.3\n",
      "Area11   11 0.68 0.39 0.61 0.39 1.6\n",
      "Area7     7 0.59 0.50 0.60 0.40 2.0\n",
      "Area2     2 0.58 0.49 0.58 0.42 1.9\n",
      "Area10   10 0.58 0.48 0.56 0.44 1.9\n",
      "Area1     1      0.76 0.65 0.35 1.2\n",
      "Area8     8      0.73 0.60 0.40 1.2\n",
      "Area9     9      0.69 0.53 0.47 1.2\n",
      "Area3     3 0.45 0.64 0.61 0.39 1.8\n",
      "Area6     6 0.51 0.60 0.62 0.38 1.9\n",
      "\n",
      "                       RC1  RC2\n",
      "SS loadings           3.86 3.46\n",
      "Proportion Var        0.32 0.29\n",
      "Cumulative Var        0.32 0.61\n",
      "Proportion Explained  0.53 0.47\n",
      "Cumulative Proportion 0.53 1.00\n",
      "\n",
      "Mean item complexity =  1.6\n",
      "Test of the hypothesis that 2 components are sufficient.\n",
      "\n",
      "The root mean square of the residuals (RMSR) is  0.06 \n",
      " with the empirical chi square  226.29  with prob <  1e-26 \n",
      "\n",
      "Fit based upon off diagonal values = 0.99"
     ]
    }
   ],
   "source": [
    "Model3 <- principal(studentSurvey, nfactors = 2, rotate = \"varimax\")\n",
    "print.psych(Model3, cut=.3, sort=TRUE)"
   ]
  },
  {
   "cell_type": "markdown",
   "id": "d3876983-4ba2-4feb-b9f2-84af4b36cc60",
   "metadata": {},
   "source": [
    "Subsetting your Data"
   ]
  },
  {
   "cell_type": "code",
   "execution_count": 24,
   "id": "142398e0-3f4a-4ddd-b124-47bac0650968",
   "metadata": {
    "vscode": {
     "languageId": "r"
    }
   },
   "outputs": [],
   "source": [
    "goodSS <- studentSurvey[, c(2, 3, 4, 5, 6, 7, 10)]\n",
    "badSS <- studentSurvey[, c(1, 8, 9)]"
   ]
  },
  {
   "cell_type": "markdown",
   "id": "964aa2e6-8e22-4d16-8e4d-059a434daa0d",
   "metadata": {},
   "source": [
    "Reverse Coding Items"
   ]
  },
  {
   "cell_type": "code",
   "execution_count": 25,
   "id": "a68832d2-8694-4879-983f-f3e8e5a69d73",
   "metadata": {
    "vscode": {
     "languageId": "r"
    }
   },
   "outputs": [],
   "source": [
    "studentSurvey$SS1_1r <- NA\n",
    "studentSurvey$SS1_1r[studentSurvey1$SS1_3 == 1] <- 5\n",
    "studentSurvey$SS1_1r[studentSurvey1$SS1_3 == 2] <- 4\n",
    "studentSurvey$SS1_1r[studentSurvey1$SS1_3 == 3] <- 3\n",
    "studentSurvey$SS1_1r[studentSurvey1$SS1_3 == 4] <- 2\n",
    "studentSurvey$SS1_1r[studentSurvey1$SS1_3 == 5] <- 1\n",
    "\n",
    "\n",
    "\n",
    "studentSurvey$SS1_8r <- NA\n",
    "studentSurvey$SS1_8r[studentSurvey1$SS1_5 == 1] <- 6\n",
    "studentSurvey$SS1_8r[studentSurvey1$SS1_5 == 2] <- 5\n",
    "studentSurvey$SS1_8r[studentSurvey1$SS1_5 == 3] <- 4\n",
    "studentSurvey$SS1_8r[studentSurvey1$SS1_5 == 4] <- 3\n",
    "studentSurvey$SS1_8r[studentSurvey1$SS1_5 == 5] <- 2\n",
    "studentSurvey$SS1_8r[studentSurvey1$SS1_5 == 6] <- 1\n",
    "\n",
    "studentSurvey$SS1_9r <- NA\n",
    "studentSurvey$SS1_9r[studentSurvey1$SS1_6 == 1] <- 5\n",
    "studentSurvey$SS1_9r[studentSurvey1$SS1_6 == 2] <- 4\n",
    "studentSurvey$SS1_9r[studentSurvey1$SS1_6 == 3] <- 3\n",
    "studentSurvey$SS1_9r[studentSurvey1$SS1_6 == 4] <- 2\n",
    "studentSurvey$SS1_9r[studentSurvey1$SS1_6 == 5] <- 1\n",
    "\n",
    "\n",
    "studentSurvey$SS2_2r <- NA\n",
    "studentSurvey$SS2_2r[studentSurvey1$SS2_1 == 1] <- 5\n",
    "studentSurvey$SS2_2r[studentSurvey1$SS2_1 == 2] <- 4\n",
    "studentSurvey$SS2_2r[studentSurvey1$SS2_1 == 3] <- 3\n",
    "studentSurvey$SS2_2r[studentSurvey1$SS2_1 == 4] <- 2\n",
    "studentSurvey$SS2_2r[studentSurvey1$SS2_1 == 5] <- 1\n",
    "\n",
    "studentSurvey$SS2_3r <- NA\n",
    "studentSurvey$SS2_3r[studentSurvey1$SS2_2 == 1] <- 5\n",
    "studentSurvey$SS2_3r[studentSurvey1$SS2_2 == 2] <- 4\n",
    "studentSurvey$SS2_3r[studentSurvey1$SS2_2 == 3] <- 3\n",
    "studentSurvey$SS2_3r[studentSurvey1$SS2_2 == 4] <- 2\n",
    "studentSurvey$SS2_3r[studentSurvey1$SS2_2 == 5] <- 1\n",
    "\n",
    "studentSurvey$SS2_4r <- NA\n",
    "studentSurvey$SS2_4r[studentSurvey1$SS2_4 == 1] <- 5\n",
    "studentSurvey$SS2_4r[studentSurvey1$SS2_4 == 2] <- 4\n",
    "studentSurvey$SS2_4r[studentSurvey1$SS2_4 == 3] <- 3\n",
    "studentSurvey$SS2_4r[studentSurvey1$SS2_4 == 4] <- 2\n",
    "studentSurvey$SS2_4r[studentSurvey1$SS2_4 == 5] <- 1"
   ]
  },
  {
   "cell_type": "markdown",
   "id": "0297248f-3e11-479e-8e4c-262312d58648",
   "metadata": {},
   "source": [
    "Dropping the Old (Non-Recoded) Items"
   ]
  },
  {
   "cell_type": "code",
   "execution_count": 26,
   "id": "3d79e0ce-2098-4aff-a584-31322b061960",
   "metadata": {
    "vscode": {
     "languageId": "r"
    }
   },
   "outputs": [],
   "source": [
    "studentSurvey <- studentSurvey[, c(1, 2, 3, 4, 8, 9)]"
   ]
  },
  {
   "cell_type": "markdown",
   "id": "4f965cea-cb2a-4db7-8bda-25af1a4bde20",
   "metadata": {},
   "source": [
    "Calculating Reliability in R"
   ]
  },
  {
   "cell_type": "code",
   "execution_count": 27,
   "id": "1674c93e-10a0-4e18-ad70-8b93248fd5ec",
   "metadata": {
    "vscode": {
     "languageId": "r"
    }
   },
   "outputs": [
    {
     "data": {
      "text/plain": [
       "\n",
       "Reliability analysis   \n",
       "Call: alpha(x = goodSS)\n",
       "\n",
       "  raw_alpha std.alpha G6(smc) average_r S/N    ase mean   sd median_r\n",
       "      0.88      0.88    0.87      0.52 7.7 0.0079  4.2 0.74     0.51\n",
       "\n",
       "    95% confidence boundaries \n",
       "         lower alpha upper\n",
       "Feldt     0.87  0.88   0.9\n",
       "Duhachek  0.87  0.88   0.9\n",
       "\n",
       " Reliability if an item is dropped:\n",
       "       raw_alpha std.alpha G6(smc) average_r S/N alpha se  var.r med.r\n",
       "Area2       0.87      0.87    0.85      0.52 6.5   0.0093 0.0020  0.50\n",
       "Area3       0.87      0.87    0.85      0.52 6.6   0.0092 0.0017  0.51\n",
       "Area4       0.87      0.87    0.85      0.53 6.8   0.0089 0.0016  0.54\n",
       "Area5       0.87      0.87    0.85      0.53 6.8   0.0089 0.0017  0.54\n",
       "Area6       0.86      0.86    0.84      0.51 6.4   0.0095 0.0010  0.51\n",
       "Area7       0.86      0.86    0.84      0.52 6.4   0.0094 0.0011  0.51\n",
       "Area10      0.87      0.87    0.85      0.52 6.6   0.0092 0.0018  0.51\n",
       "\n",
       " Item statistics \n",
       "         n raw.r std.r r.cor r.drop mean   sd\n",
       "Area2  491  0.77  0.78  0.73   0.69  4.2 0.84\n",
       "Area3  488  0.78  0.77  0.72   0.68  4.1 1.05\n",
       "Area4  489  0.75  0.74  0.68   0.64  4.2 1.01\n",
       "Area5  492  0.74  0.74  0.68   0.64  4.4 0.93\n",
       "Area6  489  0.81  0.79  0.75   0.70  4.0 1.04\n",
       "Area7  488  0.79  0.79  0.75   0.70  4.1 0.99\n",
       "Area10 491  0.76  0.77  0.71   0.67  4.1 0.90\n",
       "\n",
       "Non missing response frequency for each item\n",
       "          1    2    3    4    5 miss\n",
       "Area2  0.01 0.04 0.08 0.43 0.44 0.02\n",
       "Area3  0.03 0.06 0.13 0.34 0.43 0.02\n",
       "Area4  0.02 0.06 0.09 0.29 0.53 0.02\n",
       "Area5  0.02 0.04 0.05 0.27 0.62 0.02\n",
       "Area6  0.03 0.07 0.11 0.39 0.40 0.02\n",
       "Area7  0.02 0.06 0.14 0.39 0.39 0.02\n",
       "Area10 0.02 0.04 0.12 0.44 0.39 0.02"
      ]
     },
     "metadata": {},
     "output_type": "display_data"
    },
    {
     "data": {
      "text/plain": [
       "\n",
       "Reliability analysis   \n",
       "Call: alpha(x = badSS)\n",
       "\n",
       "  raw_alpha std.alpha G6(smc) average_r S/N   ase mean   sd median_r\n",
       "      0.71      0.72    0.63      0.46 2.6 0.022  4.2 0.78     0.47\n",
       "\n",
       "    95% confidence boundaries \n",
       "         lower alpha upper\n",
       "Feldt     0.66  0.71  0.75\n",
       "Duhachek  0.67  0.71  0.75\n",
       "\n",
       " Reliability if an item is dropped:\n",
       "      raw_alpha std.alpha G6(smc) average_r S/N alpha se var.r med.r\n",
       "Area1      0.58      0.59    0.42      0.42 1.4    0.037    NA  0.42\n",
       "Area8      0.63      0.64    0.47      0.47 1.8    0.032    NA  0.47\n",
       "Area9      0.65      0.67    0.50      0.50 2.0    0.030    NA  0.50\n",
       "\n",
       " Item statistics \n",
       "        n raw.r std.r r.cor r.drop mean   sd\n",
       "Area1 487  0.80  0.82  0.68   0.58  4.3 0.82\n",
       "Area8 488  0.83  0.80  0.63   0.53  4.1 1.12\n",
       "Area9 491  0.78  0.78  0.60   0.50  4.1 0.95\n",
       "\n",
       "Non missing response frequency for each item\n",
       "         1    2    3    4    5 miss\n",
       "Area1 0.02 0.03 0.05 0.43 0.47 0.03\n",
       "Area8 0.04 0.08 0.11 0.32 0.45 0.02\n",
       "Area9 0.02 0.06 0.12 0.42 0.38 0.02"
      ]
     },
     "metadata": {},
     "output_type": "display_data"
    },
    {
     "data": {
      "text/plain": [
       "\n",
       "Reliability analysis   \n",
       "Call: alpha(x = studentSurvey)\n",
       "\n",
       "  raw_alpha std.alpha G6(smc) average_r S/N   ase mean   sd median_r\n",
       "      0.84      0.84    0.82      0.47 5.4 0.011  4.2 0.73     0.47\n",
       "\n",
       "    95% confidence boundaries \n",
       "         lower alpha upper\n",
       "Feldt     0.82  0.84  0.86\n",
       "Duhachek  0.82  0.84  0.86\n",
       "\n",
       " Reliability if an item is dropped:\n",
       "      raw_alpha std.alpha G6(smc) average_r S/N alpha se  var.r med.r\n",
       "Area1      0.81      0.81    0.77      0.46 4.2    0.014 0.0025  0.46\n",
       "Area2      0.81      0.81    0.78      0.46 4.3    0.013 0.0029  0.46\n",
       "Area3      0.80      0.81    0.77      0.46 4.2    0.014 0.0026  0.45\n",
       "Area4      0.82      0.83    0.79      0.49 4.7    0.013 0.0025  0.48\n",
       "Area8      0.82      0.82    0.79      0.48 4.6    0.013 0.0037  0.48\n",
       "Area9      0.82      0.83    0.80      0.50 4.9    0.012 0.0018  0.50\n",
       "\n",
       " Item statistics \n",
       "        n raw.r std.r r.cor r.drop mean   sd\n",
       "Area1 487  0.77  0.78  0.73   0.67  4.3 0.82\n",
       "Area2 491  0.76  0.77  0.71   0.65  4.2 0.84\n",
       "Area3 488  0.80  0.79  0.74   0.67  4.1 1.05\n",
       "Area4 489  0.73  0.72  0.63   0.58  4.2 1.01\n",
       "Area8 488  0.76  0.74  0.66   0.61  4.1 1.12\n",
       "Area9 491  0.69  0.70  0.60   0.55  4.1 0.95\n",
       "\n",
       "Non missing response frequency for each item\n",
       "         1    2    3    4    5 miss\n",
       "Area1 0.02 0.03 0.05 0.43 0.47 0.03\n",
       "Area2 0.01 0.04 0.08 0.43 0.44 0.02\n",
       "Area3 0.03 0.06 0.13 0.34 0.43 0.02\n",
       "Area4 0.02 0.06 0.09 0.29 0.53 0.02\n",
       "Area8 0.04 0.08 0.11 0.32 0.45 0.02\n",
       "Area9 0.02 0.06 0.12 0.42 0.38 0.02"
      ]
     },
     "metadata": {},
     "output_type": "display_data"
    }
   ],
   "source": [
    "alpha(goodSS)\n",
    "alpha(badSS)\n",
    "alpha(studentSurvey)"
   ]
  },
  {
   "cell_type": "markdown",
   "id": "14b703d4-8fb9-4382-8ffa-2744d8226649",
   "metadata": {},
   "source": [
    "Draw Conclusions about Your Scale:\n",
    "\n",
    "After examining the student survey as a whole and examining its subscales, \n",
    "my conclusion is that this is a very reliable survey! \n",
    "\n",
    "The data is suitable for factor analysis with the appropriate number of factors for this data being one(1). Chronbach's alpha is the best model fit for this data. As previously stated there is only one factor indicated and the scale is considered reliable through inter-rater reliability as well as through inter-item reliability."
   ]
  }
 ],
 "metadata": {
  "kernelspec": {
   "display_name": "R",
   "language": "R",
   "name": "ir"
  },
  "language_info": {
   "codemirror_mode": "r",
   "file_extension": ".r",
   "mimetype": "text/x-r-source",
   "name": "R",
   "pygments_lexer": "r",
   "version": "4.1.3"
  }
 },
 "nbformat": 4,
 "nbformat_minor": 5
}
